{
 "cells": [
  {
   "cell_type": "markdown",
   "id": "a04d7ee2",
   "metadata": {},
   "source": [
    "# 1. Вопросы:"
   ]
  },
  {
   "cell_type": "markdown",
   "id": "518dd78e",
   "metadata": {},
   "source": [
    "###### 1) Как хорошо Вы владеете Python?\n",
    "7"
   ]
  },
  {
   "cell_type": "markdown",
   "id": "7622e843",
   "metadata": {},
   "source": [
    "###### 2) Насколько хорошо Вы знаете продукт Microsoft Excel? \n",
    "\n",
    "8"
   ]
  },
  {
   "cell_type": "markdown",
   "id": "e0ad7a05",
   "metadata": {},
   "source": [
    "# 2. Задачи на логику:"
   ]
  },
  {
   "cell_type": "markdown",
   "id": "5706e0fc",
   "metadata": {},
   "source": [
    "1) Рекламная кампания стартовала вчера с дневным бюджетом 40 $. Половина \n",
    "бюджета была израсходована к полудню, а 80% оставшегося бюджета было \n",
    "потрачено между полуднем и временем закрытия. Сколько долларов не было \n",
    "потрачено?\n",
    "\n",
    "    Ответ: 4$ не были потрачены."
   ]
  },
  {
   "cell_type": "markdown",
   "id": "18a35e67",
   "metadata": {},
   "source": [
    "2) 5 идентичных рекламных кампаний работали 24 дня по 6 часов в день, потрачено \n",
    "было 120 долларов. Сколько дней они работали бы на 216 долларов, если бы 9 \n",
    "одинаковых кампаний работали бы по 8 часов в день?\n",
    "\n",
    "    Ответ: 18 дней."
   ]
  },
  {
   "cell_type": "markdown",
   "id": "a02feb45",
   "metadata": {},
   "source": [
    "3)  Дизайнеры создали 200 рекламных баннеров для двух рекламных кампаний. 80 из \n",
    "них не использовались ни в кампании №1, ни в кампании №2, 60 использовались \n",
    "только в кампании №1. И для каждого рекламного баннера, который \n",
    "использовался в обеих кампаниях, приходится 3 баннера, которые использовались \n",
    "только в кампании №2. Сколько баннеров было использовано в обеих рекламных \n",
    "кампаниях?\n",
    "\n",
    "    Ответ: 15 баннеров использовано в обеих рекламных кампаниях \n"
   ]
  },
  {
   "cell_type": "markdown",
   "id": "35ea76f0",
   "metadata": {},
   "source": [
    "4) Энн использует Instagram, но не Facebook, а Джон использует Youtube и Facebook. \n",
    "Кейт использует Youtube, но не Instagram, а Том использует Facebook, но не \n",
    "Youtube. Если каждый человек использует две из трех социальных сетей, у кого \n",
    "предпочтения совпадают?\n",
    "\n",
    "    Ответ: у Джона и Кейна совпадают предпочтения Youtube и Facebook."
   ]
  },
  {
   "cell_type": "markdown",
   "id": "bf38d143",
   "metadata": {},
   "source": [
    "5)  Средний итоговый балл стажера по 4 модулям составляет 78 баллов. Сколько \n",
    "баллов должен получить стажер за 5-й модуль, чтобы средний балл по всему \n",
    "заданию составил 80?\n",
    "\n",
    "    Ответ: 88 баллов"
   ]
  },
  {
   "cell_type": "markdown",
   "id": "27f09b61",
   "metadata": {},
   "source": [
    "6)  Заказанные в приложении товары доставляются на автомобиле. Автомобиль \n",
    "проезжает 260 км со средней скоростью 80 км / ч. На обратном пути машина \n",
    "движется со средней скоростью 100 км / ч. Насколько быстрее был обратный путь? \n",
    "Ответ указать в минутах.\n",
    "\n",
    "Ответ: на 39 минут быстрее был обратный путь."
   ]
  },
  {
   "cell_type": "markdown",
   "id": "38cb027a",
   "metadata": {},
   "source": [
    "# 3. Техническое задание"
   ]
  },
  {
   "cell_type": "code",
   "execution_count": 1,
   "id": "4a9096d7",
   "metadata": {},
   "outputs": [],
   "source": [
    "import pandas as pd\n",
    "import matplotlib.pyplot as plt"
   ]
  },
  {
   "cell_type": "code",
   "execution_count": 2,
   "id": "7ad63bc1",
   "metadata": {
    "scrolled": true
   },
   "outputs": [
    {
     "data": {
      "text/html": [
       "<div>\n",
       "<style scoped>\n",
       "    .dataframe tbody tr th:only-of-type {\n",
       "        vertical-align: middle;\n",
       "    }\n",
       "\n",
       "    .dataframe tbody tr th {\n",
       "        vertical-align: top;\n",
       "    }\n",
       "\n",
       "    .dataframe thead th {\n",
       "        text-align: right;\n",
       "    }\n",
       "</style>\n",
       "<table border=\"1\" class=\"dataframe\">\n",
       "  <thead>\n",
       "    <tr style=\"text-align: right;\">\n",
       "      <th></th>\n",
       "      <th>client_id</th>\n",
       "      <th>sum</th>\n",
       "      <th>status</th>\n",
       "      <th>sale</th>\n",
       "      <th>new/current</th>\n",
       "      <th>Unnamed: 5</th>\n",
       "      <th>document</th>\n",
       "      <th>receiving_date</th>\n",
       "    </tr>\n",
       "  </thead>\n",
       "  <tbody>\n",
       "    <tr>\n",
       "      <th>0</th>\n",
       "      <td>NaN</td>\n",
       "      <td>NaN</td>\n",
       "      <td>Май 2021</td>\n",
       "      <td>NaN</td>\n",
       "      <td>NaN</td>\n",
       "      <td>NaN</td>\n",
       "      <td>NaN</td>\n",
       "      <td>NaN</td>\n",
       "    </tr>\n",
       "    <tr>\n",
       "      <th>1</th>\n",
       "      <td>6.0</td>\n",
       "      <td>11693.7</td>\n",
       "      <td>ВНУТРЕННИЙ</td>\n",
       "      <td>-</td>\n",
       "      <td>-</td>\n",
       "      <td>NaN</td>\n",
       "      <td>-</td>\n",
       "      <td>-</td>\n",
       "    </tr>\n",
       "    <tr>\n",
       "      <th>2</th>\n",
       "      <td>14.0</td>\n",
       "      <td>5452.7</td>\n",
       "      <td>ОПЛАЧЕНО</td>\n",
       "      <td>Петрова</td>\n",
       "      <td>новая</td>\n",
       "      <td>NaN</td>\n",
       "      <td>оригинал</td>\n",
       "      <td>2021-07-26 00:00:00</td>\n",
       "    </tr>\n",
       "    <tr>\n",
       "      <th>3</th>\n",
       "      <td>15.0</td>\n",
       "      <td>13991.7</td>\n",
       "      <td>ОПЛАЧЕНО</td>\n",
       "      <td>Иванов</td>\n",
       "      <td>текущая</td>\n",
       "      <td>NaN</td>\n",
       "      <td>оригинал</td>\n",
       "      <td>2021-06-08 00:00:00</td>\n",
       "    </tr>\n",
       "    <tr>\n",
       "      <th>4</th>\n",
       "      <td>16.0</td>\n",
       "      <td>719.7</td>\n",
       "      <td>ОПЛАЧЕНО</td>\n",
       "      <td>Иванов</td>\n",
       "      <td>текущая</td>\n",
       "      <td>NaN</td>\n",
       "      <td>оригинал</td>\n",
       "      <td>2021-06-08 00:00:00</td>\n",
       "    </tr>\n",
       "    <tr>\n",
       "      <th>...</th>\n",
       "      <td>...</td>\n",
       "      <td>...</td>\n",
       "      <td>...</td>\n",
       "      <td>...</td>\n",
       "      <td>...</td>\n",
       "      <td>...</td>\n",
       "      <td>...</td>\n",
       "      <td>...</td>\n",
       "    </tr>\n",
       "    <tr>\n",
       "      <th>725</th>\n",
       "      <td>285.0</td>\n",
       "      <td>4328.7</td>\n",
       "      <td>ОПЛАЧЕНО</td>\n",
       "      <td>Васильев</td>\n",
       "      <td>текущая</td>\n",
       "      <td>NaN</td>\n",
       "      <td>оригинал</td>\n",
       "      <td>2021-11-15 00:00:00</td>\n",
       "    </tr>\n",
       "    <tr>\n",
       "      <th>726</th>\n",
       "      <td>360.0</td>\n",
       "      <td>3096.2</td>\n",
       "      <td>ОПЛАЧЕНО</td>\n",
       "      <td>Васильев</td>\n",
       "      <td>новая</td>\n",
       "      <td>NaN</td>\n",
       "      <td>НЕТ</td>\n",
       "      <td>NaN</td>\n",
       "    </tr>\n",
       "    <tr>\n",
       "      <th>727</th>\n",
       "      <td>360.0</td>\n",
       "      <td>3096.2</td>\n",
       "      <td>ПРОСРОЧЕНО</td>\n",
       "      <td>Васильев</td>\n",
       "      <td>новая</td>\n",
       "      <td>NaN</td>\n",
       "      <td>НЕТ</td>\n",
       "      <td>NaN</td>\n",
       "    </tr>\n",
       "    <tr>\n",
       "      <th>728</th>\n",
       "      <td>373.0</td>\n",
       "      <td>4403.7</td>\n",
       "      <td>ОПЛАЧЕНО</td>\n",
       "      <td>Михайлов</td>\n",
       "      <td>новая</td>\n",
       "      <td>NaN</td>\n",
       "      <td>оригинал</td>\n",
       "      <td>2021-11-08 00:00:00</td>\n",
       "    </tr>\n",
       "    <tr>\n",
       "      <th>729</th>\n",
       "      <td>286.0</td>\n",
       "      <td>3978.7</td>\n",
       "      <td>ОПЛАЧЕНО</td>\n",
       "      <td>Филимонова</td>\n",
       "      <td>текущая</td>\n",
       "      <td>NaN</td>\n",
       "      <td>оригинал</td>\n",
       "      <td>2021-11-15 00:00:00</td>\n",
       "    </tr>\n",
       "  </tbody>\n",
       "</table>\n",
       "<p>730 rows × 8 columns</p>\n",
       "</div>"
      ],
      "text/plain": [
       "     client_id      sum      status        sale new/current  Unnamed: 5  \\\n",
       "0          NaN      NaN    Май 2021         NaN         NaN         NaN   \n",
       "1          6.0  11693.7  ВНУТРЕННИЙ           -           -         NaN   \n",
       "2         14.0   5452.7    ОПЛАЧЕНО     Петрова       новая         NaN   \n",
       "3         15.0  13991.7    ОПЛАЧЕНО      Иванов     текущая         NaN   \n",
       "4         16.0    719.7    ОПЛАЧЕНО      Иванов     текущая         NaN   \n",
       "..         ...      ...         ...         ...         ...         ...   \n",
       "725      285.0   4328.7    ОПЛАЧЕНО    Васильев     текущая         NaN   \n",
       "726      360.0   3096.2    ОПЛАЧЕНО    Васильев       новая         NaN   \n",
       "727      360.0   3096.2  ПРОСРОЧЕНО    Васильев       новая         NaN   \n",
       "728      373.0   4403.7    ОПЛАЧЕНО    Михайлов       новая         NaN   \n",
       "729      286.0   3978.7    ОПЛАЧЕНО  Филимонова     текущая         NaN   \n",
       "\n",
       "     document       receiving_date  \n",
       "0         NaN                  NaN  \n",
       "1           -                    -  \n",
       "2    оригинал  2021-07-26 00:00:00  \n",
       "3    оригинал  2021-06-08 00:00:00  \n",
       "4    оригинал  2021-06-08 00:00:00  \n",
       "..        ...                  ...  \n",
       "725  оригинал  2021-11-15 00:00:00  \n",
       "726       НЕТ                  NaN  \n",
       "727       НЕТ                  NaN  \n",
       "728  оригинал  2021-11-08 00:00:00  \n",
       "729  оригинал  2021-11-15 00:00:00  \n",
       "\n",
       "[730 rows x 8 columns]"
      ]
     },
     "execution_count": 2,
     "metadata": {},
     "output_type": "execute_result"
    }
   ],
   "source": [
    "df = pd.read_excel(r\"C:\\Users\\egork\\Documents\\data.xlsx\")\n",
    "df"
   ]
  },
  {
   "cell_type": "code",
   "execution_count": 3,
   "id": "6359b560",
   "metadata": {},
   "outputs": [
    {
     "data": {
      "text/plain": [
       "array(['Май 2021', 'ВНУТРЕННИЙ', 'ОПЛАЧЕНО', 'ПРОСРОЧЕНО', 'Июнь 2021',\n",
       "       'Июль 2021', 'Август 2021', 'В РАБОТЕ', 'Сентябрь 2021',\n",
       "       'Октябрь 2021', 'НА ПОДПИСАНИИ'], dtype=object)"
      ]
     },
     "execution_count": 3,
     "metadata": {},
     "output_type": "execute_result"
    }
   ],
   "source": [
    "df['status'].unique()"
   ]
  },
  {
   "cell_type": "code",
   "execution_count": 4,
   "id": "ada52b02",
   "metadata": {},
   "outputs": [
    {
     "data": {
      "text/html": [
       "<div>\n",
       "<style scoped>\n",
       "    .dataframe tbody tr th:only-of-type {\n",
       "        vertical-align: middle;\n",
       "    }\n",
       "\n",
       "    .dataframe tbody tr th {\n",
       "        vertical-align: top;\n",
       "    }\n",
       "\n",
       "    .dataframe thead th {\n",
       "        text-align: right;\n",
       "    }\n",
       "</style>\n",
       "<table border=\"1\" class=\"dataframe\">\n",
       "  <thead>\n",
       "    <tr style=\"text-align: right;\">\n",
       "      <th></th>\n",
       "      <th>client_id</th>\n",
       "      <th>sum</th>\n",
       "      <th>status</th>\n",
       "      <th>sale</th>\n",
       "      <th>new/current</th>\n",
       "      <th>dt</th>\n",
       "      <th>document</th>\n",
       "      <th>receiving_date</th>\n",
       "    </tr>\n",
       "  </thead>\n",
       "  <tbody>\n",
       "    <tr>\n",
       "      <th>0</th>\n",
       "      <td>NaN</td>\n",
       "      <td>NaN</td>\n",
       "      <td>Май 2021</td>\n",
       "      <td>NaN</td>\n",
       "      <td>NaN</td>\n",
       "      <td>NaN</td>\n",
       "      <td>NaN</td>\n",
       "      <td>NaN</td>\n",
       "    </tr>\n",
       "    <tr>\n",
       "      <th>1</th>\n",
       "      <td>6.0</td>\n",
       "      <td>11693.7</td>\n",
       "      <td>ВНУТРЕННИЙ</td>\n",
       "      <td>-</td>\n",
       "      <td>-</td>\n",
       "      <td>NaN</td>\n",
       "      <td>-</td>\n",
       "      <td>-</td>\n",
       "    </tr>\n",
       "    <tr>\n",
       "      <th>2</th>\n",
       "      <td>14.0</td>\n",
       "      <td>5452.7</td>\n",
       "      <td>ОПЛАЧЕНО</td>\n",
       "      <td>Петрова</td>\n",
       "      <td>новая</td>\n",
       "      <td>NaN</td>\n",
       "      <td>оригинал</td>\n",
       "      <td>2021-07-26 00:00:00</td>\n",
       "    </tr>\n",
       "    <tr>\n",
       "      <th>3</th>\n",
       "      <td>15.0</td>\n",
       "      <td>13991.7</td>\n",
       "      <td>ОПЛАЧЕНО</td>\n",
       "      <td>Иванов</td>\n",
       "      <td>текущая</td>\n",
       "      <td>NaN</td>\n",
       "      <td>оригинал</td>\n",
       "      <td>2021-06-08 00:00:00</td>\n",
       "    </tr>\n",
       "    <tr>\n",
       "      <th>4</th>\n",
       "      <td>16.0</td>\n",
       "      <td>719.7</td>\n",
       "      <td>ОПЛАЧЕНО</td>\n",
       "      <td>Иванов</td>\n",
       "      <td>текущая</td>\n",
       "      <td>NaN</td>\n",
       "      <td>оригинал</td>\n",
       "      <td>2021-06-08 00:00:00</td>\n",
       "    </tr>\n",
       "  </tbody>\n",
       "</table>\n",
       "</div>"
      ],
      "text/plain": [
       "   client_id      sum      status     sale new/current  dt  document  \\\n",
       "0        NaN      NaN    Май 2021      NaN         NaN NaN       NaN   \n",
       "1        6.0  11693.7  ВНУТРЕННИЙ        -           - NaN         -   \n",
       "2       14.0   5452.7    ОПЛАЧЕНО  Петрова       новая NaN  оригинал   \n",
       "3       15.0  13991.7    ОПЛАЧЕНО   Иванов     текущая NaN  оригинал   \n",
       "4       16.0    719.7    ОПЛАЧЕНО   Иванов     текущая NaN  оригинал   \n",
       "\n",
       "        receiving_date  \n",
       "0                  NaN  \n",
       "1                    -  \n",
       "2  2021-07-26 00:00:00  \n",
       "3  2021-06-08 00:00:00  \n",
       "4  2021-06-08 00:00:00  "
      ]
     },
     "execution_count": 4,
     "metadata": {},
     "output_type": "execute_result"
    }
   ],
   "source": [
    "df = df.rename(columns = {'Unnamed: 5' : 'dt'})\n",
    "df.head()"
   ]
  },
  {
   "cell_type": "markdown",
   "id": "d352b704",
   "metadata": {},
   "source": [
    "Создадим столбец с даннными о времени сделки в месяцах."
   ]
  },
  {
   "cell_type": "code",
   "execution_count": 5,
   "id": "c4e190af",
   "metadata": {},
   "outputs": [
    {
     "name": "stdout",
     "output_type": "stream",
     "text": [
      "Июнь 2021 Int64Index([129], dtype='int64')\n",
      "Июль 2021 Int64Index([258], dtype='int64')\n",
      "Август 2021 Int64Index([369], dtype='int64')\n",
      "Сентябрь 2021 Int64Index([484], dtype='int64')\n",
      "Октябрь 2021 Int64Index([594], dtype='int64')\n"
     ]
    }
   ],
   "source": [
    "print('Июнь 2021', df.query('status == \"Июнь 2021\"').index)\n",
    "print('Июль 2021', df.query('status == \"Июль 2021\"').index)\n",
    "print('Август 2021', df.query('status == \"Август 2021\"').index)\n",
    "print('Сентябрь 2021', df.query('status == \"Сентябрь 2021\"').index)\n",
    "print('Октябрь 2021', df.query('status == \"Октябрь 2021\"').index)"
   ]
  },
  {
   "cell_type": "code",
   "execution_count": 6,
   "id": "336be07c",
   "metadata": {},
   "outputs": [],
   "source": [
    "df.loc[:128, 'dt'] = 'май 2021'\n",
    "df.loc[129:257, 'dt'] = 'июнь 2021'\n",
    "df.loc[258:368, 'dt'] = 'июль 2021'\n",
    "df.loc[369:483, 'dt'] = 'август 2021'\n",
    "df.loc[484:593, 'dt'] = 'сентябрь 2021'\n",
    "df.loc[594:, 'dt'] = 'октябрь 2021'"
   ]
  },
  {
   "cell_type": "code",
   "execution_count": 7,
   "id": "4ea210f6",
   "metadata": {},
   "outputs": [
    {
     "data": {
      "text/plain": [
       "array(['май 2021', 'июнь 2021', 'июль 2021', 'август 2021',\n",
       "       'сентябрь 2021', 'октябрь 2021'], dtype=object)"
      ]
     },
     "execution_count": 7,
     "metadata": {},
     "output_type": "execute_result"
    }
   ],
   "source": [
    "df['dt'].unique()"
   ]
  },
  {
   "cell_type": "markdown",
   "id": "bc208f7d",
   "metadata": {},
   "source": [
    "# Общая выручка за июль 2021 по тем сделкам, приход денежных средств которых не просрочен."
   ]
  },
  {
   "cell_type": "code",
   "execution_count": 8,
   "id": "ba2d32ec",
   "metadata": {
    "scrolled": true
   },
   "outputs": [
    {
     "name": "stdout",
     "output_type": "stream",
     "text": [
      "Общая выручка за июль 2021, без просроченных сделок: 859896.47\n"
     ]
    }
   ],
   "source": [
    "revenue = df[df['status']!= \"ПРОСРОЧЕНО\"].query('dt == \"июль 2021\"')\n",
    "print('Общая выручка за июль 2021, без просроченных сделок:', round(revenue['sum'].sum(),2))"
   ]
  },
  {
   "cell_type": "markdown",
   "id": "60c12a42",
   "metadata": {},
   "source": [
    "# Визуализация выручки по месяцам"
   ]
  },
  {
   "cell_type": "code",
   "execution_count": 9,
   "id": "c793f785",
   "metadata": {},
   "outputs": [
    {
     "data": {
      "text/html": [
       "<div>\n",
       "<style scoped>\n",
       "    .dataframe tbody tr th:only-of-type {\n",
       "        vertical-align: middle;\n",
       "    }\n",
       "\n",
       "    .dataframe tbody tr th {\n",
       "        vertical-align: top;\n",
       "    }\n",
       "\n",
       "    .dataframe thead th {\n",
       "        text-align: right;\n",
       "    }\n",
       "</style>\n",
       "<table border=\"1\" class=\"dataframe\">\n",
       "  <thead>\n",
       "    <tr style=\"text-align: right;\">\n",
       "      <th></th>\n",
       "      <th>sum</th>\n",
       "    </tr>\n",
       "    <tr>\n",
       "      <th>dt</th>\n",
       "      <th></th>\n",
       "    </tr>\n",
       "  </thead>\n",
       "  <tbody>\n",
       "    <tr>\n",
       "      <th>октябрь 2021</th>\n",
       "      <td>1033148.39</td>\n",
       "    </tr>\n",
       "    <tr>\n",
       "      <th>июль 2021</th>\n",
       "      <td>861874.17</td>\n",
       "    </tr>\n",
       "    <tr>\n",
       "      <th>август 2021</th>\n",
       "      <td>850435.79</td>\n",
       "    </tr>\n",
       "    <tr>\n",
       "      <th>сентябрь 2021</th>\n",
       "      <td>820383.78</td>\n",
       "    </tr>\n",
       "    <tr>\n",
       "      <th>июнь 2021</th>\n",
       "      <td>810266.11</td>\n",
       "    </tr>\n",
       "    <tr>\n",
       "      <th>май 2021</th>\n",
       "      <td>809572.19</td>\n",
       "    </tr>\n",
       "  </tbody>\n",
       "</table>\n",
       "</div>"
      ],
      "text/plain": [
       "                      sum\n",
       "dt                       \n",
       "октябрь 2021   1033148.39\n",
       "июль 2021       861874.17\n",
       "август 2021     850435.79\n",
       "сентябрь 2021   820383.78\n",
       "июнь 2021       810266.11\n",
       "май 2021        809572.19"
      ]
     },
     "metadata": {},
     "output_type": "display_data"
    },
    {
     "data": {
      "image/png": "[encoded data removed]",
      "text/plain": [
       "<Figure size 1080x360 with 1 Axes>"
      ]
     },
     "metadata": {
      "needs_background": "light"
     },
     "output_type": "display_data"
    }
   ],
   "source": [
    "plt.figure(figsize=(15,5))\n",
    "month = df.groupby('dt').agg({'sum' : 'sum'}).sort_values(by='sum', ascending=False)\n",
    "display(month)\n",
    "plt.plot(month, color = 'red')\n",
    "plt.title('График выручки по месяцам')\n",
    "plt.xlabel('Месяц')\n",
    "plt.ylabel('Выручка')\n",
    "plt.xticks(rotation=70)\n",
    "plt.show()"
   ]
  },
  {
   "cell_type": "markdown",
   "id": "bd43f924",
   "metadata": {},
   "source": [
    "Самый прибыльный месяц - октябрь. Данный месяц колоссально отличается от других. Меньше всего выручки пришло в мае."
   ]
  },
  {
   "cell_type": "markdown",
   "id": "3c41429a",
   "metadata": {},
   "source": [
    "#  Кто из менеджеров привлек для компании больше всего денежных средств в сентябре 2021?"
   ]
  },
  {
   "cell_type": "code",
   "execution_count": 10,
   "id": "66bfd4ca",
   "metadata": {},
   "outputs": [
    {
     "data": {
      "text/html": [
       "<div>\n",
       "<style scoped>\n",
       "    .dataframe tbody tr th:only-of-type {\n",
       "        vertical-align: middle;\n",
       "    }\n",
       "\n",
       "    .dataframe tbody tr th {\n",
       "        vertical-align: top;\n",
       "    }\n",
       "\n",
       "    .dataframe thead th {\n",
       "        text-align: right;\n",
       "    }\n",
       "</style>\n",
       "<table border=\"1\" class=\"dataframe\">\n",
       "  <thead>\n",
       "    <tr style=\"text-align: right;\">\n",
       "      <th></th>\n",
       "      <th>Менеджер</th>\n",
       "      <th>Сумма выручки</th>\n",
       "    </tr>\n",
       "  </thead>\n",
       "  <tbody>\n",
       "    <tr>\n",
       "      <th>0</th>\n",
       "      <td>Смирнов</td>\n",
       "      <td>221525.70</td>\n",
       "    </tr>\n",
       "    <tr>\n",
       "      <th>1</th>\n",
       "      <td>Андреев</td>\n",
       "      <td>130983.80</td>\n",
       "    </tr>\n",
       "    <tr>\n",
       "      <th>2</th>\n",
       "      <td>Петрова</td>\n",
       "      <td>119724.86</td>\n",
       "    </tr>\n",
       "    <tr>\n",
       "      <th>3</th>\n",
       "      <td>Иванов</td>\n",
       "      <td>94770.60</td>\n",
       "    </tr>\n",
       "    <tr>\n",
       "      <th>4</th>\n",
       "      <td>Кузнецова</td>\n",
       "      <td>72228.40</td>\n",
       "    </tr>\n",
       "    <tr>\n",
       "      <th>5</th>\n",
       "      <td>Филимонова</td>\n",
       "      <td>59514.47</td>\n",
       "    </tr>\n",
       "    <tr>\n",
       "      <th>6</th>\n",
       "      <td>Васильев</td>\n",
       "      <td>45416.75</td>\n",
       "    </tr>\n",
       "    <tr>\n",
       "      <th>7</th>\n",
       "      <td>Соколов</td>\n",
       "      <td>35183.50</td>\n",
       "    </tr>\n",
       "    <tr>\n",
       "      <th>8</th>\n",
       "      <td>Михайлов</td>\n",
       "      <td>4268.70</td>\n",
       "    </tr>\n",
       "  </tbody>\n",
       "</table>\n",
       "</div>"
      ],
      "text/plain": [
       "     Менеджер  Сумма выручки\n",
       "0     Смирнов      221525.70\n",
       "1     Андреев      130983.80\n",
       "2     Петрова      119724.86\n",
       "3      Иванов       94770.60\n",
       "4   Кузнецова       72228.40\n",
       "5  Филимонова       59514.47\n",
       "6    Васильев       45416.75\n",
       "7     Соколов       35183.50\n",
       "8    Михайлов        4268.70"
      ]
     },
     "execution_count": 10,
     "metadata": {},
     "output_type": "execute_result"
    }
   ],
   "source": [
    "sale = df[df['status']!= \"ПРОСРОЧЕНО\"].query('dt == \"сентябрь 2021\"').groupby('sale').agg({'sum':'sum'})\\\n",
    ".sort_values(by='sum', ascending=False).reset_index()\n",
    "sale.columns = ['Менеджер', 'Сумма выручки']\n",
    "sale"
   ]
  },
  {
   "cell_type": "markdown",
   "id": "a7a65304",
   "metadata": {},
   "source": [
    "Самым успешным менеджером является Смирнов. Он привлек для компании больше всего денежных средства в сентябре 2021."
   ]
  },
  {
   "cell_type": "markdown",
   "id": "6bc92cec",
   "metadata": {},
   "source": [
    "# Какой тип сделок (новая/текущая) был преобладающим в октябре 2021?"
   ]
  },
  {
   "cell_type": "code",
   "execution_count": 11,
   "id": "3ce05392",
   "metadata": {},
   "outputs": [
    {
     "data": {
      "text/html": [
       "<div>\n",
       "<style scoped>\n",
       "    .dataframe tbody tr th:only-of-type {\n",
       "        vertical-align: middle;\n",
       "    }\n",
       "\n",
       "    .dataframe tbody tr th {\n",
       "        vertical-align: top;\n",
       "    }\n",
       "\n",
       "    .dataframe thead th {\n",
       "        text-align: right;\n",
       "    }\n",
       "</style>\n",
       "<table border=\"1\" class=\"dataframe\">\n",
       "  <thead>\n",
       "    <tr style=\"text-align: right;\">\n",
       "      <th></th>\n",
       "      <th>client_id</th>\n",
       "    </tr>\n",
       "    <tr>\n",
       "      <th>new/current</th>\n",
       "      <th></th>\n",
       "    </tr>\n",
       "  </thead>\n",
       "  <tbody>\n",
       "    <tr>\n",
       "      <th>текущая</th>\n",
       "      <td>99</td>\n",
       "    </tr>\n",
       "    <tr>\n",
       "      <th>новая</th>\n",
       "      <td>36</td>\n",
       "    </tr>\n",
       "  </tbody>\n",
       "</table>\n",
       "</div>"
      ],
      "text/plain": [
       "             client_id\n",
       "new/current           \n",
       "текущая             99\n",
       "новая               36"
      ]
     },
     "execution_count": 11,
     "metadata": {},
     "output_type": "execute_result"
    }
   ],
   "source": [
    "df.query('dt == \"октябрь 2021\"').groupby('new/current').agg({'client_id':'count'})\\\n",
    ".sort_values(by='client_id', ascending=False)"
   ]
  },
  {
   "cell_type": "markdown",
   "id": "98e71513",
   "metadata": {},
   "source": [
    "В октябре 2021 года приобладает тип сделки - текущая."
   ]
  },
  {
   "cell_type": "markdown",
   "id": "b36d1aea",
   "metadata": {},
   "source": [
    "# Сколько оригиналов договора по майским сделкам было получено в июне 2021?\n"
   ]
  },
  {
   "cell_type": "code",
   "execution_count": 12,
   "id": "f917a599",
   "metadata": {
    "scrolled": true
   },
   "outputs": [
    {
     "name": "stdout",
     "output_type": "stream",
     "text": [
      "<class 'pandas.core.frame.DataFrame'>\n",
      "RangeIndex: 730 entries, 0 to 729\n",
      "Data columns (total 8 columns):\n",
      " #   Column          Non-Null Count  Dtype  \n",
      "---  ------          --------------  -----  \n",
      " 0   client_id       724 non-null    float64\n",
      " 1   sum             724 non-null    float64\n",
      " 2   status          730 non-null    object \n",
      " 3   sale            724 non-null    object \n",
      " 4   new/current     724 non-null    object \n",
      " 5   dt              730 non-null    object \n",
      " 6   document        709 non-null    object \n",
      " 7   receiving_date  607 non-null    object \n",
      "dtypes: float64(2), object(6)\n",
      "memory usage: 45.8+ KB\n"
     ]
    }
   ],
   "source": [
    "df.info()"
   ]
  },
  {
   "cell_type": "code",
   "execution_count": 13,
   "id": "786417c0",
   "metadata": {
    "scrolled": true
   },
   "outputs": [
    {
     "data": {
      "text/html": [
       "<div>\n",
       "<style scoped>\n",
       "    .dataframe tbody tr th:only-of-type {\n",
       "        vertical-align: middle;\n",
       "    }\n",
       "\n",
       "    .dataframe tbody tr th {\n",
       "        vertical-align: top;\n",
       "    }\n",
       "\n",
       "    .dataframe thead th {\n",
       "        text-align: right;\n",
       "    }\n",
       "</style>\n",
       "<table border=\"1\" class=\"dataframe\">\n",
       "  <thead>\n",
       "    <tr style=\"text-align: right;\">\n",
       "      <th></th>\n",
       "      <th>client_id</th>\n",
       "      <th>sum</th>\n",
       "      <th>status</th>\n",
       "      <th>sale</th>\n",
       "      <th>new/current</th>\n",
       "      <th>dt</th>\n",
       "      <th>document</th>\n",
       "      <th>receiving_date</th>\n",
       "    </tr>\n",
       "  </thead>\n",
       "  <tbody>\n",
       "    <tr>\n",
       "      <th>0</th>\n",
       "      <td>NaN</td>\n",
       "      <td>NaN</td>\n",
       "      <td>Май 2021</td>\n",
       "      <td>NaN</td>\n",
       "      <td>NaN</td>\n",
       "      <td>май 2021</td>\n",
       "      <td>NaN</td>\n",
       "      <td>NaN</td>\n",
       "    </tr>\n",
       "    <tr>\n",
       "      <th>2</th>\n",
       "      <td>14.0</td>\n",
       "      <td>5452.7</td>\n",
       "      <td>ОПЛАЧЕНО</td>\n",
       "      <td>Петрова</td>\n",
       "      <td>новая</td>\n",
       "      <td>май 2021</td>\n",
       "      <td>оригинал</td>\n",
       "      <td>2021-07-26 00:00:00</td>\n",
       "    </tr>\n",
       "    <tr>\n",
       "      <th>3</th>\n",
       "      <td>15.0</td>\n",
       "      <td>13991.7</td>\n",
       "      <td>ОПЛАЧЕНО</td>\n",
       "      <td>Иванов</td>\n",
       "      <td>текущая</td>\n",
       "      <td>май 2021</td>\n",
       "      <td>оригинал</td>\n",
       "      <td>2021-06-08 00:00:00</td>\n",
       "    </tr>\n",
       "    <tr>\n",
       "      <th>4</th>\n",
       "      <td>16.0</td>\n",
       "      <td>719.7</td>\n",
       "      <td>ОПЛАЧЕНО</td>\n",
       "      <td>Иванов</td>\n",
       "      <td>текущая</td>\n",
       "      <td>май 2021</td>\n",
       "      <td>оригинал</td>\n",
       "      <td>2021-06-08 00:00:00</td>\n",
       "    </tr>\n",
       "    <tr>\n",
       "      <th>5</th>\n",
       "      <td>18.0</td>\n",
       "      <td>4253.7</td>\n",
       "      <td>ОПЛАЧЕНО</td>\n",
       "      <td>Иванов</td>\n",
       "      <td>текущая</td>\n",
       "      <td>май 2021</td>\n",
       "      <td>оригинал</td>\n",
       "      <td>2021-07-07 00:00:00</td>\n",
       "    </tr>\n",
       "  </tbody>\n",
       "</table>\n",
       "</div>"
      ],
      "text/plain": [
       "   client_id      sum    status     sale new/current        dt  document  \\\n",
       "0        NaN      NaN  Май 2021      NaN         NaN  май 2021       NaN   \n",
       "2       14.0   5452.7  ОПЛАЧЕНО  Петрова       новая  май 2021  оригинал   \n",
       "3       15.0  13991.7  ОПЛАЧЕНО   Иванов     текущая  май 2021  оригинал   \n",
       "4       16.0    719.7  ОПЛАЧЕНО   Иванов     текущая  май 2021  оригинал   \n",
       "5       18.0   4253.7  ОПЛАЧЕНО   Иванов     текущая  май 2021  оригинал   \n",
       "\n",
       "        receiving_date  \n",
       "0                  NaN  \n",
       "2  2021-07-26 00:00:00  \n",
       "3  2021-06-08 00:00:00  \n",
       "4  2021-06-08 00:00:00  \n",
       "5  2021-07-07 00:00:00  "
      ]
     },
     "execution_count": 13,
     "metadata": {},
     "output_type": "execute_result"
    }
   ],
   "source": [
    "df_date = df.query('receiving_date != \"-\"')\n",
    "df_date.head()"
   ]
  },
  {
   "cell_type": "code",
   "execution_count": 14,
   "id": "b28883cb",
   "metadata": {
    "scrolled": false
   },
   "outputs": [
    {
     "name": "stdout",
     "output_type": "stream",
     "text": [
      "<class 'pandas.core.frame.DataFrame'>\n",
      "Int64Index: 729 entries, 0 to 729\n",
      "Data columns (total 8 columns):\n",
      " #   Column          Non-Null Count  Dtype         \n",
      "---  ------          --------------  -----         \n",
      " 0   client_id       723 non-null    float64       \n",
      " 1   sum             723 non-null    float64       \n",
      " 2   status          729 non-null    object        \n",
      " 3   sale            723 non-null    object        \n",
      " 4   new/current     723 non-null    object        \n",
      " 5   dt              729 non-null    object        \n",
      " 6   document        708 non-null    object        \n",
      " 7   receiving_date  606 non-null    datetime64[ns]\n",
      "dtypes: datetime64[ns](1), float64(2), object(5)\n",
      "memory usage: 51.3+ KB\n"
     ]
    },
    {
     "name": "stderr",
     "output_type": "stream",
     "text": [
      "C:\\Users\\egork\\AppData\\Local\\Temp/ipykernel_39280/1032350710.py:1: SettingWithCopyWarning: \n",
      "A value is trying to be set on a copy of a slice from a DataFrame.\n",
      "Try using .loc[row_indexer,col_indexer] = value instead\n",
      "\n",
      "See the caveats in the documentation: https://pandas.pydata.org/pandas-docs/stable/user_guide/indexing.html#returning-a-view-versus-a-copy\n",
      "  df_date['receiving_date'] = pd.to_datetime(df_date['receiving_date'])\n"
     ]
    }
   ],
   "source": [
    "df_date['receiving_date'] = pd.to_datetime(df_date['receiving_date'])\n",
    "df_date.info()"
   ]
  },
  {
   "cell_type": "code",
   "execution_count": 15,
   "id": "ef194c38",
   "metadata": {},
   "outputs": [
    {
     "name": "stderr",
     "output_type": "stream",
     "text": [
      "C:\\Users\\egork\\AppData\\Local\\Temp/ipykernel_39280/224389819.py:1: SettingWithCopyWarning: \n",
      "A value is trying to be set on a copy of a slice from a DataFrame.\n",
      "Try using .loc[row_indexer,col_indexer] = value instead\n",
      "\n",
      "See the caveats in the documentation: https://pandas.pydata.org/pandas-docs/stable/user_guide/indexing.html#returning-a-view-versus-a-copy\n",
      "  df_date['month'] = pd.DatetimeIndex(df_date['receiving_date']).month\n"
     ]
    },
    {
     "data": {
      "text/html": [
       "<div>\n",
       "<style scoped>\n",
       "    .dataframe tbody tr th:only-of-type {\n",
       "        vertical-align: middle;\n",
       "    }\n",
       "\n",
       "    .dataframe tbody tr th {\n",
       "        vertical-align: top;\n",
       "    }\n",
       "\n",
       "    .dataframe thead th {\n",
       "        text-align: right;\n",
       "    }\n",
       "</style>\n",
       "<table border=\"1\" class=\"dataframe\">\n",
       "  <thead>\n",
       "    <tr style=\"text-align: right;\">\n",
       "      <th></th>\n",
       "      <th>client_id</th>\n",
       "      <th>sum</th>\n",
       "      <th>status</th>\n",
       "      <th>sale</th>\n",
       "      <th>new/current</th>\n",
       "      <th>dt</th>\n",
       "      <th>document</th>\n",
       "      <th>receiving_date</th>\n",
       "      <th>month</th>\n",
       "    </tr>\n",
       "  </thead>\n",
       "  <tbody>\n",
       "    <tr>\n",
       "      <th>0</th>\n",
       "      <td>NaN</td>\n",
       "      <td>NaN</td>\n",
       "      <td>Май 2021</td>\n",
       "      <td>NaN</td>\n",
       "      <td>NaN</td>\n",
       "      <td>май 2021</td>\n",
       "      <td>NaN</td>\n",
       "      <td>NaT</td>\n",
       "      <td>NaN</td>\n",
       "    </tr>\n",
       "    <tr>\n",
       "      <th>2</th>\n",
       "      <td>14.0</td>\n",
       "      <td>5452.7</td>\n",
       "      <td>ОПЛАЧЕНО</td>\n",
       "      <td>Петрова</td>\n",
       "      <td>новая</td>\n",
       "      <td>май 2021</td>\n",
       "      <td>оригинал</td>\n",
       "      <td>2021-07-26</td>\n",
       "      <td>7.0</td>\n",
       "    </tr>\n",
       "    <tr>\n",
       "      <th>3</th>\n",
       "      <td>15.0</td>\n",
       "      <td>13991.7</td>\n",
       "      <td>ОПЛАЧЕНО</td>\n",
       "      <td>Иванов</td>\n",
       "      <td>текущая</td>\n",
       "      <td>май 2021</td>\n",
       "      <td>оригинал</td>\n",
       "      <td>2021-06-08</td>\n",
       "      <td>6.0</td>\n",
       "    </tr>\n",
       "    <tr>\n",
       "      <th>4</th>\n",
       "      <td>16.0</td>\n",
       "      <td>719.7</td>\n",
       "      <td>ОПЛАЧЕНО</td>\n",
       "      <td>Иванов</td>\n",
       "      <td>текущая</td>\n",
       "      <td>май 2021</td>\n",
       "      <td>оригинал</td>\n",
       "      <td>2021-06-08</td>\n",
       "      <td>6.0</td>\n",
       "    </tr>\n",
       "    <tr>\n",
       "      <th>5</th>\n",
       "      <td>18.0</td>\n",
       "      <td>4253.7</td>\n",
       "      <td>ОПЛАЧЕНО</td>\n",
       "      <td>Иванов</td>\n",
       "      <td>текущая</td>\n",
       "      <td>май 2021</td>\n",
       "      <td>оригинал</td>\n",
       "      <td>2021-07-07</td>\n",
       "      <td>7.0</td>\n",
       "    </tr>\n",
       "  </tbody>\n",
       "</table>\n",
       "</div>"
      ],
      "text/plain": [
       "   client_id      sum    status     sale new/current        dt  document  \\\n",
       "0        NaN      NaN  Май 2021      NaN         NaN  май 2021       NaN   \n",
       "2       14.0   5452.7  ОПЛАЧЕНО  Петрова       новая  май 2021  оригинал   \n",
       "3       15.0  13991.7  ОПЛАЧЕНО   Иванов     текущая  май 2021  оригинал   \n",
       "4       16.0    719.7  ОПЛАЧЕНО   Иванов     текущая  май 2021  оригинал   \n",
       "5       18.0   4253.7  ОПЛАЧЕНО   Иванов     текущая  май 2021  оригинал   \n",
       "\n",
       "  receiving_date  month  \n",
       "0            NaT    NaN  \n",
       "2     2021-07-26    7.0  \n",
       "3     2021-06-08    6.0  \n",
       "4     2021-06-08    6.0  \n",
       "5     2021-07-07    7.0  "
      ]
     },
     "execution_count": 15,
     "metadata": {},
     "output_type": "execute_result"
    }
   ],
   "source": [
    "df_date['month'] = pd.DatetimeIndex(df_date['receiving_date']).month\n",
    "df_date.head()"
   ]
  },
  {
   "cell_type": "code",
   "execution_count": 16,
   "id": "f8fa694a",
   "metadata": {},
   "outputs": [
    {
     "data": {
      "text/plain": [
       "array([nan, 'оригинал', 'НЕТ'], dtype=object)"
      ]
     },
     "execution_count": 16,
     "metadata": {},
     "output_type": "execute_result"
    }
   ],
   "source": [
    "df_date['document'].unique()"
   ]
  },
  {
   "cell_type": "code",
   "execution_count": 17,
   "id": "25222a74",
   "metadata": {},
   "outputs": [
    {
     "name": "stdout",
     "output_type": "stream",
     "text": [
      "Кол-во оригиналов договора по майским сделкам было получено в июне 2021: 76\n"
     ]
    }
   ],
   "source": [
    "doc = df_date.query('dt == \"май 2021\" & month == 6')\n",
    "print('Кол-во оригиналов договора по майским сделкам было получено в июне 2021:',doc['document'].count())"
   ]
  },
  {
   "cell_type": "markdown",
   "id": "154fb0ae",
   "metadata": {},
   "source": []
  },
  {
   "cell_type": "markdown",
   "id": "8768923f",
   "metadata": {},
   "source": [
    "# Менеджеры получившие 7% бонусов за новые сделки совершенные в мае и июне, а также имеются подписаные оригиналы документов за данные месяца"
   ]
  },
  {
   "cell_type": "code",
   "execution_count": 18,
   "id": "bba9d197",
   "metadata": {},
   "outputs": [
    {
     "data": {
      "text/html": [
       "<div>\n",
       "<style scoped>\n",
       "    .dataframe tbody tr th:only-of-type {\n",
       "        vertical-align: middle;\n",
       "    }\n",
       "\n",
       "    .dataframe tbody tr th {\n",
       "        vertical-align: top;\n",
       "    }\n",
       "\n",
       "    .dataframe thead th {\n",
       "        text-align: right;\n",
       "    }\n",
       "</style>\n",
       "<table border=\"1\" class=\"dataframe\">\n",
       "  <thead>\n",
       "    <tr style=\"text-align: right;\">\n",
       "      <th></th>\n",
       "      <th>Менеджер</th>\n",
       "      <th>Бонусы</th>\n",
       "    </tr>\n",
       "  </thead>\n",
       "  <tbody>\n",
       "    <tr>\n",
       "      <th>0</th>\n",
       "      <td>Андреев</td>\n",
       "      <td>1144.3390</td>\n",
       "    </tr>\n",
       "    <tr>\n",
       "      <th>1</th>\n",
       "      <td>Петрова</td>\n",
       "      <td>770.2590</td>\n",
       "    </tr>\n",
       "    <tr>\n",
       "      <th>2</th>\n",
       "      <td>Смирнов</td>\n",
       "      <td>696.4090</td>\n",
       "    </tr>\n",
       "    <tr>\n",
       "      <th>3</th>\n",
       "      <td>Кузнецова</td>\n",
       "      <td>424.1321</td>\n",
       "    </tr>\n",
       "    <tr>\n",
       "      <th>4</th>\n",
       "      <td>Васильев</td>\n",
       "      <td>35.2590</td>\n",
       "    </tr>\n",
       "  </tbody>\n",
       "</table>\n",
       "</div>"
      ],
      "text/plain": [
       "    Менеджер     Бонусы\n",
       "0    Андреев  1144.3390\n",
       "1    Петрова   770.2590\n",
       "2    Смирнов   696.4090\n",
       "3  Кузнецова   424.1321\n",
       "4   Васильев    35.2590"
      ]
     },
     "execution_count": 18,
     "metadata": {},
     "output_type": "execute_result"
    }
   ],
   "source": [
    "df_new = df_date[df_date['new/current']==\"новая\"].query('status == \"ОПЛАЧЕНО\" \\\n",
    "                                                        & (month == 6 or month == 5) \\\n",
    "                                                        & (dt == \"май 2021\" or dt == \"июнь 2021\")')\n",
    "df_new['zp'] = df_new['sum']*0.07\n",
    "df_new = df_new.groupby('sale').agg({'zp':'sum'}).sort_values(by='zp', ascending=False).reset_index()\n",
    "df_new.columns = ['Менеджер', 'Бонусы']\n",
    "df_new"
   ]
  },
  {
   "cell_type": "code",
   "execution_count": 19,
   "id": "c6500e3a",
   "metadata": {},
   "outputs": [],
   "source": [
    "df_current = df_date[df_date['new/current']==\"текущая\"].query('status != \"ПРОСРОЧЕНО\" \\\n",
    "                                                              & (month == 6 or month == 5)\\\n",
    "                                                              & (dt == \"май 2021\" or dt == \"июнь 2021\")')"
   ]
  },
  {
   "cell_type": "code",
   "execution_count": 20,
   "id": "766adb26",
   "metadata": {},
   "outputs": [
    {
     "data": {
      "text/html": [
       "<div>\n",
       "<style scoped>\n",
       "    .dataframe tbody tr th:only-of-type {\n",
       "        vertical-align: middle;\n",
       "    }\n",
       "\n",
       "    .dataframe tbody tr th {\n",
       "        vertical-align: top;\n",
       "    }\n",
       "\n",
       "    .dataframe thead th {\n",
       "        text-align: right;\n",
       "    }\n",
       "</style>\n",
       "<table border=\"1\" class=\"dataframe\">\n",
       "  <thead>\n",
       "    <tr style=\"text-align: right;\">\n",
       "      <th></th>\n",
       "      <th>client_id</th>\n",
       "      <th>sum</th>\n",
       "      <th>status</th>\n",
       "      <th>sale</th>\n",
       "      <th>new/current</th>\n",
       "      <th>dt</th>\n",
       "      <th>document</th>\n",
       "      <th>receiving_date</th>\n",
       "      <th>month</th>\n",
       "      <th>zp</th>\n",
       "    </tr>\n",
       "  </thead>\n",
       "  <tbody>\n",
       "    <tr>\n",
       "      <th>3</th>\n",
       "      <td>15.0</td>\n",
       "      <td>13991.7</td>\n",
       "      <td>ОПЛАЧЕНО</td>\n",
       "      <td>Иванов</td>\n",
       "      <td>текущая</td>\n",
       "      <td>май 2021</td>\n",
       "      <td>оригинал</td>\n",
       "      <td>2021-06-08</td>\n",
       "      <td>6.0</td>\n",
       "      <td>699.585</td>\n",
       "    </tr>\n",
       "    <tr>\n",
       "      <th>4</th>\n",
       "      <td>16.0</td>\n",
       "      <td>719.7</td>\n",
       "      <td>ОПЛАЧЕНО</td>\n",
       "      <td>Иванов</td>\n",
       "      <td>текущая</td>\n",
       "      <td>май 2021</td>\n",
       "      <td>оригинал</td>\n",
       "      <td>2021-06-08</td>\n",
       "      <td>6.0</td>\n",
       "      <td>21.591</td>\n",
       "    </tr>\n",
       "    <tr>\n",
       "      <th>8</th>\n",
       "      <td>23.0</td>\n",
       "      <td>8511.7</td>\n",
       "      <td>ОПЛАЧЕНО</td>\n",
       "      <td>Андреев</td>\n",
       "      <td>текущая</td>\n",
       "      <td>май 2021</td>\n",
       "      <td>оригинал</td>\n",
       "      <td>2021-06-08</td>\n",
       "      <td>6.0</td>\n",
       "      <td>255.351</td>\n",
       "    </tr>\n",
       "    <tr>\n",
       "      <th>10</th>\n",
       "      <td>28.0</td>\n",
       "      <td>10537.7</td>\n",
       "      <td>ОПЛАЧЕНО</td>\n",
       "      <td>Андреев</td>\n",
       "      <td>текущая</td>\n",
       "      <td>май 2021</td>\n",
       "      <td>оригинал</td>\n",
       "      <td>2021-06-16</td>\n",
       "      <td>6.0</td>\n",
       "      <td>526.885</td>\n",
       "    </tr>\n",
       "    <tr>\n",
       "      <th>11</th>\n",
       "      <td>30.0</td>\n",
       "      <td>3833.7</td>\n",
       "      <td>ОПЛАЧЕНО</td>\n",
       "      <td>Филимонова</td>\n",
       "      <td>текущая</td>\n",
       "      <td>май 2021</td>\n",
       "      <td>оригинал</td>\n",
       "      <td>2021-06-21</td>\n",
       "      <td>6.0</td>\n",
       "      <td>115.011</td>\n",
       "    </tr>\n",
       "  </tbody>\n",
       "</table>\n",
       "</div>"
      ],
      "text/plain": [
       "    client_id      sum    status        sale new/current        dt  document  \\\n",
       "3        15.0  13991.7  ОПЛАЧЕНО      Иванов     текущая  май 2021  оригинал   \n",
       "4        16.0    719.7  ОПЛАЧЕНО      Иванов     текущая  май 2021  оригинал   \n",
       "8        23.0   8511.7  ОПЛАЧЕНО     Андреев     текущая  май 2021  оригинал   \n",
       "10       28.0  10537.7  ОПЛАЧЕНО     Андреев     текущая  май 2021  оригинал   \n",
       "11       30.0   3833.7  ОПЛАЧЕНО  Филимонова     текущая  май 2021  оригинал   \n",
       "\n",
       "   receiving_date  month       zp  \n",
       "3      2021-06-08    6.0  699.585  \n",
       "4      2021-06-08    6.0   21.591  \n",
       "8      2021-06-08    6.0  255.351  \n",
       "10     2021-06-16    6.0  526.885  \n",
       "11     2021-06-21    6.0  115.011  "
      ]
     },
     "execution_count": 20,
     "metadata": {},
     "output_type": "execute_result"
    }
   ],
   "source": [
    "def sale(money):\n",
    "    if money > 10000:\n",
    "        return money*0.05\n",
    "    else:\n",
    "        return money*0.03\n",
    "\n",
    "df_current['zp'] = df_current['sum'].apply(sale)\n",
    "df_current.head()"
   ]
  },
  {
   "cell_type": "code",
   "execution_count": 21,
   "id": "63a6b579",
   "metadata": {},
   "outputs": [
    {
     "data": {
      "text/html": [
       "<div>\n",
       "<style scoped>\n",
       "    .dataframe tbody tr th:only-of-type {\n",
       "        vertical-align: middle;\n",
       "    }\n",
       "\n",
       "    .dataframe tbody tr th {\n",
       "        vertical-align: top;\n",
       "    }\n",
       "\n",
       "    .dataframe thead th {\n",
       "        text-align: right;\n",
       "    }\n",
       "</style>\n",
       "<table border=\"1\" class=\"dataframe\">\n",
       "  <thead>\n",
       "    <tr style=\"text-align: right;\">\n",
       "      <th></th>\n",
       "      <th>Менеджер</th>\n",
       "      <th>Бонусы</th>\n",
       "    </tr>\n",
       "  </thead>\n",
       "  <tbody>\n",
       "    <tr>\n",
       "      <th>0</th>\n",
       "      <td>Петрова</td>\n",
       "      <td>6258.5430</td>\n",
       "    </tr>\n",
       "    <tr>\n",
       "      <th>1</th>\n",
       "      <td>Смирнов</td>\n",
       "      <td>4078.7240</td>\n",
       "    </tr>\n",
       "    <tr>\n",
       "      <th>2</th>\n",
       "      <td>Андреев</td>\n",
       "      <td>3653.8647</td>\n",
       "    </tr>\n",
       "    <tr>\n",
       "      <th>3</th>\n",
       "      <td>Иванов</td>\n",
       "      <td>2503.8390</td>\n",
       "    </tr>\n",
       "    <tr>\n",
       "      <th>4</th>\n",
       "      <td>Кузнецова</td>\n",
       "      <td>2180.5395</td>\n",
       "    </tr>\n",
       "    <tr>\n",
       "      <th>5</th>\n",
       "      <td>Филимонова</td>\n",
       "      <td>409.6830</td>\n",
       "    </tr>\n",
       "    <tr>\n",
       "      <th>6</th>\n",
       "      <td>Селиванов</td>\n",
       "      <td>353.3220</td>\n",
       "    </tr>\n",
       "    <tr>\n",
       "      <th>7</th>\n",
       "      <td>Васильев</td>\n",
       "      <td>303.9720</td>\n",
       "    </tr>\n",
       "  </tbody>\n",
       "</table>\n",
       "</div>"
      ],
      "text/plain": [
       "     Менеджер     Бонусы\n",
       "0     Петрова  6258.5430\n",
       "1     Смирнов  4078.7240\n",
       "2     Андреев  3653.8647\n",
       "3      Иванов  2503.8390\n",
       "4   Кузнецова  2180.5395\n",
       "5  Филимонова   409.6830\n",
       "6   Селиванов   353.3220\n",
       "7    Васильев   303.9720"
      ]
     },
     "execution_count": 21,
     "metadata": {},
     "output_type": "execute_result"
    }
   ],
   "source": [
    "df_current = df_current.groupby('sale').agg({'zp':'sum'}).sort_values(by='zp', ascending=False).reset_index()\n",
    "df_current.columns = ['Менеджер', 'Бонусы']\n",
    "df_current"
   ]
  }
 ],
 "metadata": {
  "kernelspec": {
   "display_name": "Python 3 (ipykernel)",
   "language": "python",
   "name": "python3"
  },
  "language_info": {
   "codemirror_mode": {
    "name": "ipython",
    "version": 3
   },
   "file_extension": ".py",
   "mimetype": "text/x-python",
   "name": "python",
   "nbconvert_exporter": "python",
   "pygments_lexer": "ipython3",
   "version": "3.9.7"
  }
 },
 "nbformat": 4,
 "nbformat_minor": 5
}
